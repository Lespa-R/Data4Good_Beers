{
 "cells": [
  {
   "cell_type": "code",
   "execution_count": 1,
   "id": "1ee0b59c",
   "metadata": {},
   "outputs": [],
   "source": [
    "import pandas as pd "
   ]
  },
  {
   "cell_type": "code",
   "execution_count": 4,
   "id": "367459d7",
   "metadata": {},
   "outputs": [],
   "source": [
    "import haversine as hs\n",
    "mon_point_gps = (45.75890831513813, 4.8479297387744085)"
   ]
  },
  {
   "cell_type": "code",
   "execution_count": 5,
   "id": "9f35e6af",
   "metadata": {},
   "outputs": [],
   "source": [
    "brasserie_pilat_lat = 45.31888005571389\n",
    "brasserie_pilat_lon = 4.628994444349384"
   ]
  },
  {
   "cell_type": "code",
   "execution_count": 10,
   "id": "e2719468",
   "metadata": {},
   "outputs": [
    {
     "name": "stdout",
     "output_type": "stream",
     "text": [
      "Je me trouve à 51.81498738300803km du lieu de production de cette bière\n"
     ]
    }
   ],
   "source": [
    "distance = hs.haversine((brasserie_pilat_lat,brasserie_pilat_lon),loc_restal)\n",
    "print(f\"Je me trouve à {distance}km du lieu de production de cette bière\") "
   ]
  },
  {
   "cell_type": "code",
   "execution_count": null,
   "id": "1fa7d2c1",
   "metadata": {},
   "outputs": [],
   "source": []
  },
  {
   "cell_type": "code",
   "execution_count": null,
   "id": "349c293c",
   "metadata": {},
   "outputs": [],
   "source": []
  }
 ],
 "metadata": {
  "kernelspec": {
   "display_name": "Python 3 (ipykernel)",
   "language": "python",
   "name": "python3"
  },
  "language_info": {
   "codemirror_mode": {
    "name": "ipython",
    "version": 3
   },
   "file_extension": ".py",
   "mimetype": "text/x-python",
   "name": "python",
   "nbconvert_exporter": "python",
   "pygments_lexer": "ipython3",
   "version": "3.8.12"
  },
  "toc": {
   "base_numbering": 1,
   "nav_menu": {},
   "number_sections": true,
   "sideBar": true,
   "skip_h1_title": false,
   "title_cell": "Table of Contents",
   "title_sidebar": "Contents",
   "toc_cell": false,
   "toc_position": {},
   "toc_section_display": true,
   "toc_window_display": false
  }
 },
 "nbformat": 4,
 "nbformat_minor": 5
}
