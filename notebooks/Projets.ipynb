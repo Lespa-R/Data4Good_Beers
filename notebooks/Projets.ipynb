{
 "cells": [
  {
   "cell_type": "code",
   "execution_count": 1,
   "id": "92dfe144",
   "metadata": {
    "ExecuteTime": {
     "end_time": "2022-09-08T15:25:01.242039Z",
     "start_time": "2022-09-08T15:24:58.012863Z"
    }
   },
   "outputs": [],
   "source": [
    "import pandas as pd"
   ]
  },
  {
   "cell_type": "code",
   "execution_count": 38,
   "id": "60415ec2",
   "metadata": {
    "ExecuteTime": {
     "end_time": "2022-09-08T15:46:56.638682Z",
     "start_time": "2022-09-08T15:46:56.632664Z"
    }
   },
   "outputs": [],
   "source": [
    "#paramétrage du code pour afficher toutes les colonnes\n",
    "pd.set_option('display.max_columns', None)"
   ]
  },
  {
   "cell_type": "code",
   "execution_count": 37,
   "id": "a103f228",
   "metadata": {
    "ExecuteTime": {
     "end_time": "2022-09-08T15:46:54.478865Z",
     "start_time": "2022-09-08T15:46:54.282392Z"
    },
    "collapsed": true
   },
   "outputs": [
    {
     "name": "stderr",
     "output_type": "stream",
     "text": [
      "C:\\Users\\Alexis\\anaconda3\\lib\\site-packages\\IPython\\core\\interactiveshell.py:3444: DtypeWarning: Columns (0,2,4,5,6,7,10,13,14,15,17,18,21,22,23,24,25,26,28,32,33,34,35,38,39,40,41,42,43,44,45,48,51,54,55,58,59,60,61,63,64,65,66,67,68,70,71,72,74,75,80,81,82,83,84,85,86,87,88,89,90,93,106,107,108,109,110,111,112,113,116,117,118,119,120,121,122,123,124,125,126,129,132,133,136,137,140,141,142,143,144,146,147,148,149,150,153,154,155,156,159,160,161,164,165,190,202,206,212,214,216,218,220,222,224,226,228,230,232,234,236,238,240,242,244,246,248,250,252,253,254,255,256,257,258,259,260,261,262,263,264,265,266,267,268,269,270,284,285,286,288,289,292,293,294,295,296) have mixed types.Specify dtype option on import or set low_memory=False.\n",
      "  exec(code_obj, self.user_global_ns, self.user_ns)\n"
     ]
    }
   ],
   "source": [
    "df_beer = pd.read_csv(\"C:/Users/Alexis/Documents/Python/Projets/off_beer_2.csv\", encoding=\"utf-8\", sep='\\t')"
   ]
  },
  {
   "cell_type": "code",
   "execution_count": 42,
   "id": "ceb84d5b",
   "metadata": {
    "ExecuteTime": {
     "end_time": "2022-09-08T15:47:58.737801Z",
     "start_time": "2022-09-08T15:47:58.727828Z"
    }
   },
   "outputs": [],
   "source": [
    "# création d'un deuxième dataframe avec uniquement les colonnes pertinentes pour plus de lisibilité\n",
    "df_beer2 = df_beer[['product_name_fr', 'brands', 'brands_tags', 'countries', 'origins', 'manufacturing_places', 'off:ecoscore_grade', 'off:ecoscore_score']]"
   ]
  },
  {
   "cell_type": "code",
   "execution_count": 43,
   "id": "95fbbbb7",
   "metadata": {
    "ExecuteTime": {
     "end_time": "2022-09-08T15:47:59.508478Z",
     "start_time": "2022-09-08T15:47:59.489497Z"
    }
   },
   "outputs": [
    {
     "data": {
      "text/html": [
       "<div>\n",
       "<style scoped>\n",
       "    .dataframe tbody tr th:only-of-type {\n",
       "        vertical-align: middle;\n",
       "    }\n",
       "\n",
       "    .dataframe tbody tr th {\n",
       "        vertical-align: top;\n",
       "    }\n",
       "\n",
       "    .dataframe thead th {\n",
       "        text-align: right;\n",
       "    }\n",
       "</style>\n",
       "<table border=\"1\" class=\"dataframe\">\n",
       "  <thead>\n",
       "    <tr style=\"text-align: right;\">\n",
       "      <th></th>\n",
       "      <th>0</th>\n",
       "    </tr>\n",
       "  </thead>\n",
       "  <tbody>\n",
       "    <tr>\n",
       "      <th>product_name_fr</th>\n",
       "      <td>2601</td>\n",
       "    </tr>\n",
       "    <tr>\n",
       "      <th>brands</th>\n",
       "      <td>983</td>\n",
       "    </tr>\n",
       "    <tr>\n",
       "      <th>brands_tags</th>\n",
       "      <td>983</td>\n",
       "    </tr>\n",
       "    <tr>\n",
       "      <th>countries</th>\n",
       "      <td>28</td>\n",
       "    </tr>\n",
       "    <tr>\n",
       "      <th>origins</th>\n",
       "      <td>5759</td>\n",
       "    </tr>\n",
       "    <tr>\n",
       "      <th>manufacturing_places</th>\n",
       "      <td>3827</td>\n",
       "    </tr>\n",
       "    <tr>\n",
       "      <th>off:ecoscore_grade</th>\n",
       "      <td>2</td>\n",
       "    </tr>\n",
       "    <tr>\n",
       "      <th>off:ecoscore_score</th>\n",
       "      <td>2</td>\n",
       "    </tr>\n",
       "  </tbody>\n",
       "</table>\n",
       "</div>"
      ],
      "text/plain": [
       "                         0\n",
       "product_name_fr       2601\n",
       "brands                 983\n",
       "brands_tags            983\n",
       "countries               28\n",
       "origins               5759\n",
       "manufacturing_places  3827\n",
       "off:ecoscore_grade       2\n",
       "off:ecoscore_score       2"
      ]
     },
     "execution_count": 43,
     "metadata": {},
     "output_type": "execute_result"
    }
   ],
   "source": [
    "df_beer2.isna().sum().to_frame()\n",
    "\n",
    "# beaucoup de NaN mais aussi beaucoup de duplicates (plusieurs dizaines de lignes grimbergen) donc peut être pas si grave"
   ]
  },
  {
   "cell_type": "code",
   "execution_count": 52,
   "id": "05d591f3",
   "metadata": {
    "ExecuteTime": {
     "end_time": "2022-09-08T15:55:09.118075Z",
     "start_time": "2022-09-08T15:55:09.100110Z"
    }
   },
   "outputs": [
    {
     "name": "stderr",
     "output_type": "stream",
     "text": [
      "C:\\Users\\Alexis\\AppData\\Local\\Temp/ipykernel_6420/1408209360.py:1: SettingWithCopyWarning: \n",
      "A value is trying to be set on a copy of a slice from a DataFrame.\n",
      "Try using .loc[row_indexer,col_indexer] = value instead\n",
      "\n",
      "See the caveats in the documentation: https://pandas.pydata.org/pandas-docs/stable/user_guide/indexing.html#returning-a-view-versus-a-copy\n",
      "  df_beer2['brands'] = df_beer2['brands_tags'].str.split(',').str[0]\n"
     ]
    }
   ],
   "source": [
    "# création d'une nouvelle colonne 'brands' pour isoler uniquement la première valeur avant la virgule, qui correspond à la vraie marque\n",
    "df_beer2['brands'] = df_beer2['brands_tags'].str.split(',').str[0]"
   ]
  },
  {
   "cell_type": "code",
   "execution_count": 58,
   "id": "f6ece4c6",
   "metadata": {
    "ExecuteTime": {
     "end_time": "2022-09-08T15:57:15.440678Z",
     "start_time": "2022-09-08T15:57:15.425755Z"
    }
   },
   "outputs": [
    {
     "data": {
      "text/plain": [
       "c    66\n",
       "d    31\n",
       "Name: off:ecoscore_grade, dtype: int64"
      ]
     },
     "execution_count": 58,
     "metadata": {},
     "output_type": "execute_result"
    }
   ],
   "source": [
    "#Exemple d'un duplicates : il y a 97 lignes 'leffe' et elles ont 2 ecoscores différents, à creuser\n",
    "df_beer2[df_beer2['brands'] == 'leffe']['off:ecoscore_grade'].value_counts()"
   ]
  }
 ],
 "metadata": {
  "kernelspec": {
   "display_name": "Python 3 (ipykernel)",
   "language": "python",
   "name": "python3"
  },
  "language_info": {
   "codemirror_mode": {
    "name": "ipython",
    "version": 3
   },
   "file_extension": ".py",
   "mimetype": "text/x-python",
   "name": "python",
   "nbconvert_exporter": "python",
   "pygments_lexer": "ipython3",
   "version": "3.9.7"
  }
 },
 "nbformat": 4,
 "nbformat_minor": 5
}
